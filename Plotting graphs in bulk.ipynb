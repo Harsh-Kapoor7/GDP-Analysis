{
 "cells": [
  {
   "cell_type": "code",
   "execution_count": 22,
   "id": "5cbfd249",
   "metadata": {},
   "outputs": [
    {
     "name": "stdout",
     "output_type": "stream",
     "text": [
      "Collecting plotly==5.11.0\n",
      "  Downloading plotly-5.11.0-py2.py3-none-any.whl (15.3 MB)\n",
      "Requirement already satisfied: tenacity>=6.2.0 in c:\\users\\harsh kapoor\\anaconda3\\lib\\site-packages (from plotly==5.11.0) (8.1.0)\n",
      "Installing collected packages: plotly\n",
      "  Attempting uninstall: plotly\n",
      "    Found existing installation: plotly 5.13.0\n",
      "    Uninstalling plotly-5.13.0:\n",
      "      Successfully uninstalled plotly-5.13.0\n",
      "Successfully installed plotly-5.11.0\n"
     ]
    }
   ],
   "source": [
    "!pip install plotly==5.11.0"
   ]
  },
  {
   "cell_type": "code",
   "execution_count": 2,
   "id": "1a499be5",
   "metadata": {},
   "outputs": [],
   "source": [
    "import os\n",
    "import pandas as pd\n",
    "import plotly.express as px\n",
    "import plotly.offline as pyo"
   ]
  },
  {
   "cell_type": "code",
   "execution_count": 3,
   "id": "7372c635",
   "metadata": {},
   "outputs": [
    {
     "data": {
      "text/html": [
       "<div>\n",
       "<style scoped>\n",
       "    .dataframe tbody tr th:only-of-type {\n",
       "        vertical-align: middle;\n",
       "    }\n",
       "\n",
       "    .dataframe tbody tr th {\n",
       "        vertical-align: top;\n",
       "    }\n",
       "\n",
       "    .dataframe thead th {\n",
       "        text-align: right;\n",
       "    }\n",
       "</style>\n",
       "<table border=\"1\" class=\"dataframe\">\n",
       "  <thead>\n",
       "    <tr style=\"text-align: right;\">\n",
       "      <th></th>\n",
       "      <th>Country Name</th>\n",
       "      <th>Country Code</th>\n",
       "      <th>Year</th>\n",
       "      <th>Value</th>\n",
       "      <th>GDP</th>\n",
       "    </tr>\n",
       "  </thead>\n",
       "  <tbody>\n",
       "    <tr>\n",
       "      <th>0</th>\n",
       "      <td>Arab World</td>\n",
       "      <td>ARB</td>\n",
       "      <td>1968</td>\n",
       "      <td>2.576068e+10</td>\n",
       "      <td>0.00</td>\n",
       "    </tr>\n",
       "    <tr>\n",
       "      <th>1</th>\n",
       "      <td>Arab World</td>\n",
       "      <td>ARB</td>\n",
       "      <td>1969</td>\n",
       "      <td>2.843420e+10</td>\n",
       "      <td>10.38</td>\n",
       "    </tr>\n",
       "    <tr>\n",
       "      <th>2</th>\n",
       "      <td>Arab World</td>\n",
       "      <td>ARB</td>\n",
       "      <td>1970</td>\n",
       "      <td>3.138550e+10</td>\n",
       "      <td>10.38</td>\n",
       "    </tr>\n",
       "    <tr>\n",
       "      <th>3</th>\n",
       "      <td>Arab World</td>\n",
       "      <td>ARB</td>\n",
       "      <td>1971</td>\n",
       "      <td>3.642691e+10</td>\n",
       "      <td>16.06</td>\n",
       "    </tr>\n",
       "    <tr>\n",
       "      <th>4</th>\n",
       "      <td>Arab World</td>\n",
       "      <td>ARB</td>\n",
       "      <td>1972</td>\n",
       "      <td>4.331606e+10</td>\n",
       "      <td>18.91</td>\n",
       "    </tr>\n",
       "  </tbody>\n",
       "</table>\n",
       "</div>"
      ],
      "text/plain": [
       "  Country Name Country Code  Year         Value    GDP\n",
       "0   Arab World          ARB  1968  2.576068e+10   0.00\n",
       "1   Arab World          ARB  1969  2.843420e+10  10.38\n",
       "2   Arab World          ARB  1970  3.138550e+10  10.38\n",
       "3   Arab World          ARB  1971  3.642691e+10  16.06\n",
       "4   Arab World          ARB  1972  4.331606e+10  18.91"
      ]
     },
     "execution_count": 3,
     "metadata": {},
     "output_type": "execute_result"
    }
   ],
   "source": [
    "df = pd.read_csv(\"D:/Data_Analysis/gdp.csv\")\n",
    "\n",
    "final_data = []\n",
    "\n",
    "for country_name in df['Country Name'].unique():\n",
    "    df_pr = df[df['Country Name'] == country_name]\n",
    "\n",
    "    data = df_pr.values\n",
    "\n",
    "    gdp_change = [0]\n",
    "\n",
    "    for i in range(1, len(data)):\n",
    "        gdp_change.append(round(((data[i][3] - data[i-1][3]) / data[i-1][3]) * 100, 2))\n",
    "\n",
    "    df_pr = df_pr.assign(GDP = gdp_change)\n",
    "    final_data.append(df_pr)\n",
    "    \n",
    "df = pd.concat(final_data, axis = 0)\n",
    "df.head()"
   ]
  },
  {
   "cell_type": "markdown",
   "id": "d46fa897",
   "metadata": {},
   "source": [
    "## GDP of all Country graph Individual"
   ]
  },
  {
   "cell_type": "code",
   "execution_count": null,
   "id": "843717d7",
   "metadata": {},
   "outputs": [],
   "source": [
    "os.mkdir('GDP Individual')\n",
    "\n",
    "for country_name in df['Country Name']:\n",
    "    df_pr = df[df['Country Name'] == country_name]\n",
    "    fig = px.line(df_pr, x = 'Year', y = 'Value', title = country_name + 'GDP Analysis')\n",
    "    pyo.plot(fig, filename = 'GDP Individual/' + country_name+'.html', auto_open = False)\n"
   ]
  },
  {
   "cell_type": "markdown",
   "id": "997dc724",
   "metadata": {},
   "source": [
    "## GDP of each Country wrt 80T"
   ]
  },
  {
   "cell_type": "code",
   "execution_count": null,
   "id": "24d97711",
   "metadata": {},
   "outputs": [],
   "source": [
    "os.mkdir('GDP Individual wrt World 2')\n",
    "\n",
    "c = 0\n",
    "\n",
    "for country_name in df['Country Name']:\n",
    "    c += 1\n",
    "    df_pr = df[df['Country Name'] == country_name]\n",
    "    fig = px.line(df_pr, x = 'Year', y = 'Value', title = country_name + 'GDP Analysis', range_y = [0,80000000000000])\n",
    "    pyo.plot(fig, filename = 'GDP Individual wrt World 2/' + country_name+'.html', auto_open = False)\n",
    "    \n",
    "    if(c == 5):\n",
    "        break"
   ]
  },
  {
   "cell_type": "markdown",
   "id": "ef34c6a0",
   "metadata": {},
   "source": [
    "## GDP Of India"
   ]
  },
  {
   "cell_type": "code",
   "execution_count": 36,
   "id": "c9ec450e",
   "metadata": {},
   "outputs": [
    {
     "data": {
      "text/plain": [
       "'India2.html'"
      ]
     },
     "execution_count": 36,
     "metadata": {},
     "output_type": "execute_result"
    }
   ],
   "source": [
    "df_pr = df[df['Country Name'] == 'India']\n",
    "fig = px.line(df_pr, x = 'Year', y = 'GDP', title = 'India GDP Analysis')\n",
    "pyo.plot(fig, filename = 'India2.html')"
   ]
  },
  {
   "cell_type": "markdown",
   "id": "ece17d01",
   "metadata": {},
   "source": [
    "## GDP Growth of all Countries Graph Individual"
   ]
  },
  {
   "cell_type": "code",
   "execution_count": 92,
   "id": "f746b7e9",
   "metadata": {},
   "outputs": [
    {
     "data": {
      "text/plain": [
       "'Ind.html'"
      ]
     },
     "execution_count": 92,
     "metadata": {},
     "output_type": "execute_result"
    }
   ],
   "source": [
    "os.mkdir('GDP Growth Individual')\n",
    "\n",
    "for country_name in df['Country Code'].unique():\n",
    "    df_pr = df[df['Country Code'] == country_name]\n",
    "\n",
    "    fig = px.line(df_pr, x = 'Year', y = 'GDP', title = 'GDP Individual')\n",
    "    pyo.plot(fig, filename = 'GDP Growth Individual/' + country_name + '.html', auto_open = False)"
   ]
  },
  {
   "cell_type": "code",
   "execution_count": null,
   "id": "ccd88614",
   "metadata": {},
   "outputs": [],
   "source": []
  }
 ],
 "metadata": {
  "kernelspec": {
   "display_name": "Python 3 (ipykernel)",
   "language": "python",
   "name": "python3"
  },
  "language_info": {
   "codemirror_mode": {
    "name": "ipython",
    "version": 3
   },
   "file_extension": ".py",
   "mimetype": "text/x-python",
   "name": "python",
   "nbconvert_exporter": "python",
   "pygments_lexer": "ipython3",
   "version": "3.9.7"
  }
 },
 "nbformat": 4,
 "nbformat_minor": 5
}
