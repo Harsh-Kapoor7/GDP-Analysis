{
 "cells": [
  {
   "cell_type": "code",
   "execution_count": 1,
   "id": "96bcc065",
   "metadata": {},
   "outputs": [],
   "source": [
    "import pandas as pd\n",
    "import plotly.express as px\n",
    "import plotly.offline as pyo"
   ]
  },
  {
   "cell_type": "code",
   "execution_count": 2,
   "id": "4f2a1524",
   "metadata": {},
   "outputs": [
    {
     "data": {
      "text/html": [
       "<div>\n",
       "<style scoped>\n",
       "    .dataframe tbody tr th:only-of-type {\n",
       "        vertical-align: middle;\n",
       "    }\n",
       "\n",
       "    .dataframe tbody tr th {\n",
       "        vertical-align: top;\n",
       "    }\n",
       "\n",
       "    .dataframe thead th {\n",
       "        text-align: right;\n",
       "    }\n",
       "</style>\n",
       "<table border=\"1\" class=\"dataframe\">\n",
       "  <thead>\n",
       "    <tr style=\"text-align: right;\">\n",
       "      <th></th>\n",
       "      <th>Country Name</th>\n",
       "      <th>Country Code</th>\n",
       "      <th>Year</th>\n",
       "      <th>Value</th>\n",
       "      <th>GDP</th>\n",
       "    </tr>\n",
       "  </thead>\n",
       "  <tbody>\n",
       "    <tr>\n",
       "      <th>0</th>\n",
       "      <td>Arab World</td>\n",
       "      <td>ARB</td>\n",
       "      <td>1968</td>\n",
       "      <td>2.576068e+10</td>\n",
       "      <td>0.00</td>\n",
       "    </tr>\n",
       "    <tr>\n",
       "      <th>1</th>\n",
       "      <td>Arab World</td>\n",
       "      <td>ARB</td>\n",
       "      <td>1969</td>\n",
       "      <td>2.843420e+10</td>\n",
       "      <td>10.38</td>\n",
       "    </tr>\n",
       "    <tr>\n",
       "      <th>2</th>\n",
       "      <td>Arab World</td>\n",
       "      <td>ARB</td>\n",
       "      <td>1970</td>\n",
       "      <td>3.138550e+10</td>\n",
       "      <td>10.38</td>\n",
       "    </tr>\n",
       "    <tr>\n",
       "      <th>3</th>\n",
       "      <td>Arab World</td>\n",
       "      <td>ARB</td>\n",
       "      <td>1971</td>\n",
       "      <td>3.642691e+10</td>\n",
       "      <td>16.06</td>\n",
       "    </tr>\n",
       "    <tr>\n",
       "      <th>4</th>\n",
       "      <td>Arab World</td>\n",
       "      <td>ARB</td>\n",
       "      <td>1972</td>\n",
       "      <td>4.331606e+10</td>\n",
       "      <td>18.91</td>\n",
       "    </tr>\n",
       "  </tbody>\n",
       "</table>\n",
       "</div>"
      ],
      "text/plain": [
       "  Country Name Country Code  Year         Value    GDP\n",
       "0   Arab World          ARB  1968  2.576068e+10   0.00\n",
       "1   Arab World          ARB  1969  2.843420e+10  10.38\n",
       "2   Arab World          ARB  1970  3.138550e+10  10.38\n",
       "3   Arab World          ARB  1971  3.642691e+10  16.06\n",
       "4   Arab World          ARB  1972  4.331606e+10  18.91"
      ]
     },
     "execution_count": 2,
     "metadata": {},
     "output_type": "execute_result"
    }
   ],
   "source": [
    "df = pd.read_csv(\"D:/Data_Analysis/gdp.csv\")\n",
    "\n",
    "final_data = []\n",
    "\n",
    "for country_name in df['Country Name'].unique():\n",
    "    df_pr = df[df['Country Name'] == country_name]\n",
    "\n",
    "    data = df_pr.values\n",
    "\n",
    "    gdp_change = [0]\n",
    "\n",
    "    for i in range(1, len(data)):\n",
    "        gdp_change.append(round(((data[i][3] - data[i-1][3]) / data[i-1][3]) * 100, 2))\n",
    "\n",
    "    df_pr = df_pr.assign(GDP = gdp_change)\n",
    "    final_data.append(df_pr)\n",
    "    \n",
    "df = pd.concat(final_data, axis = 0)\n",
    "df.head()"
   ]
  },
  {
   "cell_type": "markdown",
   "id": "49fc9817",
   "metadata": {},
   "source": [
    "## GDP Growth comparison of all the Countries"
   ]
  },
  {
   "cell_type": "code",
   "execution_count": 4,
   "id": "8733906e",
   "metadata": {},
   "outputs": [
    {
     "data": {
      "text/plain": [
       "'GDP Grwoth.html'"
      ]
     },
     "execution_count": 4,
     "metadata": {},
     "output_type": "execute_result"
    }
   ],
   "source": [
    "fig = px.line(df, x = 'Year', y = 'GDP', color = 'Country Name')\n",
    "pyo.plot(fig, filename = 'GDP Grwoth.html', auto_open = True)"
   ]
  },
  {
   "cell_type": "markdown",
   "id": "19c945ad",
   "metadata": {},
   "source": [
    "## GDP of all Countries"
   ]
  },
  {
   "cell_type": "code",
   "execution_count": 6,
   "id": "5bb8de21",
   "metadata": {},
   "outputs": [
    {
     "data": {
      "text/plain": [
       "'GDP OF Every Country.html'"
      ]
     },
     "execution_count": 6,
     "metadata": {},
     "output_type": "execute_result"
    }
   ],
   "source": [
    "fig = px.line(df, x = 'Year', y = 'Value', color = 'Country Name')\n",
    "pyo.plot(fig, filename = 'GDP OF Every Country.html', auto_open = True)"
   ]
  },
  {
   "cell_type": "markdown",
   "id": "2aa57273",
   "metadata": {},
   "source": [
    "## GDP Analysis of 2 Countries"
   ]
  },
  {
   "cell_type": "code",
   "execution_count": 9,
   "id": "d54be93a",
   "metadata": {},
   "outputs": [
    {
     "data": {
      "text/html": [
       "<div>\n",
       "<style scoped>\n",
       "    .dataframe tbody tr th:only-of-type {\n",
       "        vertical-align: middle;\n",
       "    }\n",
       "\n",
       "    .dataframe tbody tr th {\n",
       "        vertical-align: top;\n",
       "    }\n",
       "\n",
       "    .dataframe thead th {\n",
       "        text-align: right;\n",
       "    }\n",
       "</style>\n",
       "<table border=\"1\" class=\"dataframe\">\n",
       "  <thead>\n",
       "    <tr style=\"text-align: right;\">\n",
       "      <th></th>\n",
       "      <th>Country Name</th>\n",
       "      <th>Country Code</th>\n",
       "      <th>Year</th>\n",
       "      <th>Value</th>\n",
       "      <th>GDP</th>\n",
       "    </tr>\n",
       "  </thead>\n",
       "  <tbody>\n",
       "    <tr>\n",
       "      <th>6074</th>\n",
       "      <td>India</td>\n",
       "      <td>IND</td>\n",
       "      <td>1960</td>\n",
       "      <td>3.653593e+10</td>\n",
       "      <td>0.00</td>\n",
       "    </tr>\n",
       "    <tr>\n",
       "      <th>6075</th>\n",
       "      <td>India</td>\n",
       "      <td>IND</td>\n",
       "      <td>1961</td>\n",
       "      <td>3.870910e+10</td>\n",
       "      <td>5.95</td>\n",
       "    </tr>\n",
       "    <tr>\n",
       "      <th>6076</th>\n",
       "      <td>India</td>\n",
       "      <td>IND</td>\n",
       "      <td>1962</td>\n",
       "      <td>4.159907e+10</td>\n",
       "      <td>7.47</td>\n",
       "    </tr>\n",
       "    <tr>\n",
       "      <th>6077</th>\n",
       "      <td>India</td>\n",
       "      <td>IND</td>\n",
       "      <td>1963</td>\n",
       "      <td>4.777600e+10</td>\n",
       "      <td>14.85</td>\n",
       "    </tr>\n",
       "    <tr>\n",
       "      <th>6078</th>\n",
       "      <td>India</td>\n",
       "      <td>IND</td>\n",
       "      <td>1964</td>\n",
       "      <td>5.572687e+10</td>\n",
       "      <td>16.64</td>\n",
       "    </tr>\n",
       "    <tr>\n",
       "      <th>...</th>\n",
       "      <td>...</td>\n",
       "      <td>...</td>\n",
       "      <td>...</td>\n",
       "      <td>...</td>\n",
       "      <td>...</td>\n",
       "    </tr>\n",
       "    <tr>\n",
       "      <th>4098</th>\n",
       "      <td>China</td>\n",
       "      <td>CHN</td>\n",
       "      <td>2012</td>\n",
       "      <td>8.560547e+12</td>\n",
       "      <td>13.05</td>\n",
       "    </tr>\n",
       "    <tr>\n",
       "      <th>4099</th>\n",
       "      <td>China</td>\n",
       "      <td>CHN</td>\n",
       "      <td>2013</td>\n",
       "      <td>9.607224e+12</td>\n",
       "      <td>12.23</td>\n",
       "    </tr>\n",
       "    <tr>\n",
       "      <th>4100</th>\n",
       "      <td>China</td>\n",
       "      <td>CHN</td>\n",
       "      <td>2014</td>\n",
       "      <td>1.048237e+13</td>\n",
       "      <td>9.11</td>\n",
       "    </tr>\n",
       "    <tr>\n",
       "      <th>4101</th>\n",
       "      <td>China</td>\n",
       "      <td>CHN</td>\n",
       "      <td>2015</td>\n",
       "      <td>1.106467e+13</td>\n",
       "      <td>5.55</td>\n",
       "    </tr>\n",
       "    <tr>\n",
       "      <th>4102</th>\n",
       "      <td>China</td>\n",
       "      <td>CHN</td>\n",
       "      <td>2016</td>\n",
       "      <td>1.119915e+13</td>\n",
       "      <td>1.22</td>\n",
       "    </tr>\n",
       "  </tbody>\n",
       "</table>\n",
       "<p>114 rows × 5 columns</p>\n",
       "</div>"
      ],
      "text/plain": [
       "     Country Name Country Code  Year         Value    GDP\n",
       "6074        India          IND  1960  3.653593e+10   0.00\n",
       "6075        India          IND  1961  3.870910e+10   5.95\n",
       "6076        India          IND  1962  4.159907e+10   7.47\n",
       "6077        India          IND  1963  4.777600e+10  14.85\n",
       "6078        India          IND  1964  5.572687e+10  16.64\n",
       "...           ...          ...   ...           ...    ...\n",
       "4098        China          CHN  2012  8.560547e+12  13.05\n",
       "4099        China          CHN  2013  9.607224e+12  12.23\n",
       "4100        China          CHN  2014  1.048237e+13   9.11\n",
       "4101        China          CHN  2015  1.106467e+13   5.55\n",
       "4102        China          CHN  2016  1.119915e+13   1.22\n",
       "\n",
       "[114 rows x 5 columns]"
      ]
     },
     "execution_count": 9,
     "metadata": {},
     "output_type": "execute_result"
    }
   ],
   "source": [
    "C1 = df[df['Country Name'] == 'India']\n",
    "C2 = df[df['Country Name'] == 'China']\n",
    "\n",
    "df_pr = pd.concat([C1,C2], axis = 0)\n",
    "df_pr"
   ]
  },
  {
   "cell_type": "code",
   "execution_count": 14,
   "id": "ec351dac",
   "metadata": {},
   "outputs": [
    {
     "data": {
      "text/plain": [
       "'IND-CHN GDP Analysis.html'"
      ]
     },
     "execution_count": 14,
     "metadata": {},
     "output_type": "execute_result"
    }
   ],
   "source": [
    "fig = px.line(df_pr, x = 'Year', y = 'Value', title = 'IND-CHN GDP Analysis', color = 'Country Name')\n",
    "pyo.plot(fig, filename = 'IND-CHN GDP Analysis.html')"
   ]
  },
  {
   "cell_type": "markdown",
   "id": "5b0ca65e",
   "metadata": {},
   "source": [
    "## GDP Comparison between more than 2 countries"
   ]
  },
  {
   "cell_type": "code",
   "execution_count": 30,
   "id": "712388b4",
   "metadata": {},
   "outputs": [
    {
     "data": {
      "text/plain": [
       "array(['Italy', 'India', 'United States', 'China'], dtype=object)"
      ]
     },
     "execution_count": 30,
     "metadata": {},
     "output_type": "execute_result"
    }
   ],
   "source": [
    "lst = ['ITA', 'IND', 'USA', 'CHN']\n",
    "dfs = []\n",
    "\n",
    "for i in lst:\n",
    "    dfs.append(df[df['Country Code'] == i])\n",
    "    df_pr = pd.concat(dfs, axis = 0)\n",
    "df_pr['Country Name'].unique()"
   ]
  },
  {
   "cell_type": "code",
   "execution_count": 31,
   "id": "bdc63738",
   "metadata": {},
   "outputs": [
    {
     "data": {
      "text/plain": [
       "'test.html'"
      ]
     },
     "execution_count": 31,
     "metadata": {},
     "output_type": "execute_result"
    }
   ],
   "source": [
    "fig = px.line(df_pr, x = 'Year', y = 'Value', title = 'GDP COomparison', color = 'Country Name')\n",
    "pyo.plot(fig, filename = 'test.html', auto_open = True)"
   ]
  },
  {
   "cell_type": "markdown",
   "id": "4dc1e037",
   "metadata": {},
   "source": [
    "## GDP Comparison between more than 2 countries using Function"
   ]
  },
  {
   "cell_type": "code",
   "execution_count": 38,
   "id": "5e972cd7",
   "metadata": {},
   "outputs": [],
   "source": [
    "def compare_GDP(lst, isOpen):\n",
    "    dfs = []\n",
    "\n",
    "    for i in lst:\n",
    "        dfs.append(df[df['Country Code'] == i])\n",
    "        df_pr = pd.concat(dfs, axis = 0)\n",
    "        \n",
    "    fig = px.line(df_pr, x = 'Year', y = 'Value', title = 'GDP Comparison', color = 'Country Name')\n",
    "    pyo.plot(fig, filename = '-'.join(lst) + '.html', auto_open = isOpen)"
   ]
  },
  {
   "cell_type": "code",
   "execution_count": 39,
   "id": "42a1d8b8",
   "metadata": {},
   "outputs": [],
   "source": [
    "compare_GDP(['IND', 'CHN', 'USA', 'ITA'], True)"
   ]
  },
  {
   "cell_type": "code",
   "execution_count": null,
   "id": "1bb0440d",
   "metadata": {},
   "outputs": [],
   "source": []
  }
 ],
 "metadata": {
  "kernelspec": {
   "display_name": "Python 3 (ipykernel)",
   "language": "python",
   "name": "python3"
  },
  "language_info": {
   "codemirror_mode": {
    "name": "ipython",
    "version": 3
   },
   "file_extension": ".py",
   "mimetype": "text/x-python",
   "name": "python",
   "nbconvert_exporter": "python",
   "pygments_lexer": "ipython3",
   "version": "3.9.7"
  }
 },
 "nbformat": 4,
 "nbformat_minor": 5
}
